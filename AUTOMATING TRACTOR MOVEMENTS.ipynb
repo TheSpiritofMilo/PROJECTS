{
 "cells": [
  {
   "cell_type": "markdown",
   "id": "f662d169",
   "metadata": {},
   "source": [
    "## AUTOMATING COMPLEX MOVEMENTS\n"
   ]
  },
  {
   "cell_type": "markdown",
   "id": "26af890c",
   "metadata": {},
   "source": [
    "Using python, we automate complex movement of our farm equipment. We will use functions to make our code more modular, making it simpler to read, modify, and extend. "
   ]
  },
  {
   "cell_type": "markdown",
   "id": "d9c9c575",
   "metadata": {},
   "source": [
    "## Challenge 1: Plough the whole field"
   ]
  },
  {
   "cell_type": "code",
   "execution_count": 1,
   "id": "9fc4d6a9",
   "metadata": {},
   "outputs": [],
   "source": [
    "def tractor_movement_standard(field):\n",
    "    plough_movements = []\n",
    "    for col in range(len(field)):\n",
    "        for row in range(len(field[col])):\n",
    "            plough_movements.append((col, row))\n",
    "    return plough_movements \n",
    "\n"
   ]
  },
  {
   "cell_type": "markdown",
   "id": "22bf4519",
   "metadata": {},
   "source": [
    "**Input 1:**"
   ]
  },
  {
   "cell_type": "code",
   "execution_count": 2,
   "id": "5d60d60b",
   "metadata": {},
   "outputs": [
    {
     "data": {
      "text/plain": [
       "[(0, 0),\n",
       " (0, 1),\n",
       " (0, 2),\n",
       " (0, 3),\n",
       " (0, 4),\n",
       " (1, 0),\n",
       " (1, 1),\n",
       " (1, 2),\n",
       " (1, 3),\n",
       " (1, 4),\n",
       " (2, 0),\n",
       " (2, 1),\n",
       " (2, 2),\n",
       " (2, 3),\n",
       " (2, 4),\n",
       " (3, 0),\n",
       " (3, 1),\n",
       " (3, 2),\n",
       " (3, 3),\n",
       " (3, 4),\n",
       " (4, 0),\n",
       " (4, 1),\n",
       " (4, 2),\n",
       " (4, 3),\n",
       " (4, 4),\n",
       " (5, 0),\n",
       " (5, 1),\n",
       " (5, 2),\n",
       " (5, 3),\n",
       " (5, 4),\n",
       " (6, 0),\n",
       " (6, 1),\n",
       " (6, 2),\n",
       " (6, 3),\n",
       " (6, 4),\n",
       " (7, 0),\n",
       " (7, 1),\n",
       " (7, 2),\n",
       " (7, 3),\n",
       " (7, 4),\n",
       " (8, 0),\n",
       " (8, 1),\n",
       " (8, 2),\n",
       " (8, 3),\n",
       " (8, 4),\n",
       " (9, 0),\n",
       " (9, 1),\n",
       " (9, 2),\n",
       " (9, 3),\n",
       " (9, 4)]"
      ]
     },
     "execution_count": 2,
     "metadata": {},
     "output_type": "execute_result"
    }
   ],
   "source": [
    "field_standard = [\n",
    "    ['soil3', 'soil3', 'soil1', 'soil2', 'soil2'],\n",
    "    ['soil2', 'soil3', 'soil2', 'soil1', 'soil3'],\n",
    "    ['soil2', 'soil3', 'soil1', 'soil3', 'soil3'],\n",
    "    ['soil3', 'soil2', 'soil3', 'soil3', 'soil2'],\n",
    "    ['soil3', 'soil2', 'soil1', 'soil3', 'soil2'],\n",
    "    ['soil2', 'soil3', 'soil3', 'soil1', 'soil3'],\n",
    "    ['soil3', 'soil1', 'soil3', 'soil2', 'soil2'],\n",
    "    ['soil2', 'soil1', 'soil2', 'soil2', 'soil1'],\n",
    "    ['soil1', 'soil1', 'soil3', 'soil2', 'soil3'],\n",
    "    ['soil3', 'soil3', 'soil3', 'soil1', 'soil1']\n",
    "]\n",
    "\n",
    "tractor_movement_standard(field_standard)"
   ]
  },
  {
   "cell_type": "markdown",
   "id": "f2767ed5",
   "metadata": {},
   "source": [
    "<br>\n",
    "\n",
    "**Input 2:**"
   ]
  },
  {
   "cell_type": "code",
   "execution_count": 3,
   "id": "5b65a05a",
   "metadata": {},
   "outputs": [
    {
     "data": {
      "text/plain": [
       "[(0, 0),\n",
       " (0, 1),\n",
       " (0, 2),\n",
       " (0, 3),\n",
       " (0, 4),\n",
       " (0, 5),\n",
       " (0, 6),\n",
       " (0, 7),\n",
       " (0, 8),\n",
       " (0, 9),\n",
       " (0, 10),\n",
       " (0, 11),\n",
       " (0, 12),\n",
       " (0, 13),\n",
       " (0, 14),\n",
       " (1, 0),\n",
       " (1, 1),\n",
       " (1, 2),\n",
       " (1, 3),\n",
       " (1, 4),\n",
       " (1, 5),\n",
       " (1, 6)]"
      ]
     },
     "execution_count": 3,
     "metadata": {},
     "output_type": "execute_result"
    }
   ],
   "source": [
    "field_wide = [\n",
    "    ['soil3', 'soil3', 'soil1', 'soil2', 'soil2', 'soil3', 'soil3', 'soil1', 'soil2', 'soil2', 'soil3', 'soil3', 'soil1', 'soil2', 'soil2'],\n",
    "    ['soil3', 'soil3', 'soil1', 'soil2','soil2', 'soil3', 'soil3']\n",
    "]\n",
    "\n",
    "tractor_movement_standard(field_wide)"
   ]
  },
  {
   "cell_type": "markdown",
   "id": "f26cf4e0",
   "metadata": {},
   "source": [
    "## Challenge 2: Turning the tractor around"
   ]
  },
  {
   "cell_type": "markdown",
   "id": "0b095fde",
   "metadata": {},
   "source": [
    "### Answer:"
   ]
  },
  {
   "cell_type": "code",
   "execution_count": 1,
   "id": "21748c7c",
   "metadata": {},
   "outputs": [],
   "source": [
    "def reverse_list(input_list):\n",
    "    input_list.reverse()\n",
    "    return input_list"
   ]
  },
  {
   "cell_type": "markdown",
   "id": "7d861d96",
   "metadata": {},
   "source": [
    "**Input 1:**"
   ]
  },
  {
   "cell_type": "code",
   "execution_count": 2,
   "id": "1db31326",
   "metadata": {},
   "outputs": [
    {
     "data": {
      "text/plain": [
       "[4, 3, 2, 1, 0]"
      ]
     },
     "execution_count": 2,
     "metadata": {},
     "output_type": "execute_result"
    }
   ],
   "source": [
    "current_row = [0, 1, 2, 3, 4]\n",
    "\n",
    "reverse_list(current_row)"
   ]
  },
  {
   "cell_type": "markdown",
   "id": "0b07a6d4",
   "metadata": {},
   "source": [
    "<br>\n",
    "\n",
    "**Input 2:**"
   ]
  },
  {
   "cell_type": "code",
   "execution_count": 10,
   "id": "ae68d074",
   "metadata": {},
   "outputs": [
    {
     "data": {
      "text/plain": [
       "[4, 0, 2, 3, 1]"
      ]
     },
     "execution_count": 10,
     "metadata": {},
     "output_type": "execute_result"
    }
   ],
   "source": [
    "current_row = [1, 3, 2, 0, 4]\n",
    "\n",
    "reverse_list(current_row)"
   ]
  },
  {
   "cell_type": "markdown",
   "id": "3e1f2a18",
   "metadata": {},
   "source": [
    "**Output:**\n",
    "\n",
    "`[4, 0, 2, 3, 1]`"
   ]
  },
  {
   "cell_type": "markdown",
   "id": "42d283bd",
   "metadata": {},
   "source": [
    "## Challenge 3: Ploughing a field realistically\n"
   ]
  },
  {
   "cell_type": "code",
   "execution_count": 3,
   "id": "56b561bf",
   "metadata": {},
   "outputs": [],
   "source": [
    "def tractor_movement_realistic(field):\n",
    "    plough_movements = []\n",
    "    def reverse_list(lst):\n",
    "        return list(reversed(lst))\n",
    "\n",
    "    for row in range(len(field)):\n",
    "        if row % 2 == 0:  \n",
    "            plough_movements.extend([(row, col) for col in range(len(field[row]))])\n",
    "        else:  \n",
    "            plough_movements.extend([(row, col) for col in reverse_list(range(len(field[row])))])\n",
    "    \n",
    "    return plough_movements"
   ]
  },
  {
   "cell_type": "markdown",
   "id": "a19eee7f",
   "metadata": {},
   "source": [
    "**Input 1:**"
   ]
  },
  {
   "cell_type": "code",
   "execution_count": 4,
   "id": "411c13e9",
   "metadata": {},
   "outputs": [
    {
     "data": {
      "text/plain": [
       "[(0, 0),\n",
       " (0, 1),\n",
       " (0, 2),\n",
       " (0, 3),\n",
       " (0, 4),\n",
       " (1, 4),\n",
       " (1, 3),\n",
       " (1, 2),\n",
       " (1, 1),\n",
       " (1, 0),\n",
       " (2, 0),\n",
       " (2, 1),\n",
       " (2, 2),\n",
       " (2, 3),\n",
       " (2, 4),\n",
       " (3, 4),\n",
       " (3, 3),\n",
       " (3, 2),\n",
       " (3, 1),\n",
       " (3, 0),\n",
       " (4, 0),\n",
       " (4, 1),\n",
       " (4, 2),\n",
       " (4, 3),\n",
       " (4, 4),\n",
       " (5, 4),\n",
       " (5, 3),\n",
       " (5, 2),\n",
       " (5, 1),\n",
       " (5, 0),\n",
       " (6, 0),\n",
       " (6, 1),\n",
       " (6, 2),\n",
       " (6, 3),\n",
       " (6, 4),\n",
       " (7, 4),\n",
       " (7, 3),\n",
       " (7, 2),\n",
       " (7, 1),\n",
       " (7, 0),\n",
       " (8, 0),\n",
       " (8, 1),\n",
       " (8, 2),\n",
       " (8, 3),\n",
       " (8, 4),\n",
       " (9, 4),\n",
       " (9, 3),\n",
       " (9, 2),\n",
       " (9, 1),\n",
       " (9, 0)]"
      ]
     },
     "execution_count": 4,
     "metadata": {},
     "output_type": "execute_result"
    }
   ],
   "source": [
    "field_standard = [\n",
    "    ['soil3', 'soil3', 'soil1', 'soil2', 'soil2'],\n",
    "    ['soil2', 'soil3', 'soil2', 'soil1', 'soil3'],\n",
    "    ['soil2', 'soil3', 'soil1', 'soil3', 'soil3'],\n",
    "    ['soil3', 'soil2', 'soil3', 'soil3', 'soil2'],\n",
    "    ['soil3', 'soil2', 'soil1', 'soil3', 'soil2'],\n",
    "    ['soil2', 'soil3', 'soil3', 'soil1', 'soil3'],\n",
    "    ['soil3', 'soil1', 'soil3', 'soil2', 'soil2'],\n",
    "    ['soil2', 'soil1', 'soil2', 'soil2', 'soil1'],\n",
    "    ['soil1', 'soil1', 'soil3', 'soil2', 'soil3'],\n",
    "    ['soil3', 'soil3', 'soil3', 'soil1', 'soil1']\n",
    "]\n",
    "\n",
    "tractor_movement_realistic(field_standard)"
   ]
  },
  {
   "cell_type": "markdown",
   "id": "e0ff5683",
   "metadata": {},
   "source": [
    "**Input 1:**"
   ]
  },
  {
   "cell_type": "code",
   "execution_count": 13,
   "id": "4ec7708d",
   "metadata": {},
   "outputs": [
    {
     "data": {
      "text/plain": [
       "[(0, 0),\n",
       " (0, 1),\n",
       " (0, 2),\n",
       " (0, 3),\n",
       " (0, 4),\n",
       " (1, 4),\n",
       " (1, 3),\n",
       " (1, 2),\n",
       " (1, 1),\n",
       " (1, 0),\n",
       " (2, 0),\n",
       " (2, 1),\n",
       " (2, 2),\n",
       " (2, 3),\n",
       " (2, 4),\n",
       " (3, 4),\n",
       " (3, 3),\n",
       " (3, 2),\n",
       " (3, 1),\n",
       " (3, 0),\n",
       " (4, 0),\n",
       " (4, 1),\n",
       " (4, 2),\n",
       " (4, 3),\n",
       " (4, 4)]"
      ]
     },
     "execution_count": 13,
     "metadata": {},
     "output_type": "execute_result"
    }
   ],
   "source": [
    "field_5x5 = [\n",
    " ['soil', 'soil', 'soil', 'soil', 'soil'],\n",
    " ['soil', 'soil', 'soil', 'soil', 'soil'],\n",
    " ['soil', 'soil', 'soil', 'soil', 'soil'],\n",
    " ['soil', 'soil', 'soil', 'soil', 'soil'],\n",
    " ['soil', 'soil', 'soil', 'soil', 'soil'],\n",
    "]\n",
    "tractor_movement_realistic(field_5x5)"
   ]
  },
  {
   "cell_type": "markdown",
   "id": "e9956efe",
   "metadata": {
    "tags": []
   },
   "source": [
    "<br>"
   ]
  }
 ],
 "metadata": {
  "kernelspec": {
   "display_name": "Python 3 (ipykernel)",
   "language": "python",
   "name": "python3"
  },
  "language_info": {
   "codemirror_mode": {
    "name": "ipython",
    "version": 3
   },
   "file_extension": ".py",
   "mimetype": "text/x-python",
   "name": "python",
   "nbconvert_exporter": "python",
   "pygments_lexer": "ipython3",
   "version": "3.11.5"
  }
 },
 "nbformat": 4,
 "nbformat_minor": 5
}
