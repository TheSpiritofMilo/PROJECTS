{
 "cells": [
  {
   "cell_type": "markdown",
   "metadata": {
    "id": "wPnX9Dz4RILE"
   },
   "source": [
    "reference:\n",
    "\n",
    "https://www.kaggle.com/artemsolomko/video-games-sales-with-score-eda-and-stat-test\n",
    "\n",
    "https://www.kaggle.com/zihaoxu/the-console-wars-ps-vs-xbox-vs-wii/notebook"
   ]
  },
  {
   "cell_type": "markdown",
   "metadata": {},
   "source": [
    "# Predict Racing Video Game Sales "
   ]
  },
  {
   "cell_type": "markdown",
   "metadata": {
    "id": "ANcbMEusRILF"
   },
   "source": [
    "0. Import libraries"
   ]
  },
  {
   "cell_type": "code",
   "execution_count": 5,
   "metadata": {
    "execution": {
     "iopub.execute_input": "2021-09-07T15:55:57.801574Z",
     "iopub.status.busy": "2021-09-07T15:55:57.801096Z",
     "iopub.status.idle": "2021-09-07T15:55:58.114985Z",
     "shell.execute_reply": "2021-09-07T15:55:58.114165Z",
     "shell.execute_reply.started": "2021-09-07T15:55:57.801481Z"
    },
    "id": "jfSzITK2RILF"
   },
   "outputs": [],
   "source": [
    "import pandas as pd\n",
    "import numpy as np\n",
    "\n",
    "import matplotlib.pyplot as plt\n",
    "%matplotlib inline\n",
    "\n",
    "import seaborn as sns\n",
    "sns.set_style(\"darkgrid\")\n",
    "\n",
    "import warnings\n",
    "warnings.filterwarnings(\"ignore\")"
   ]
  },
  {
   "cell_type": "markdown",
   "metadata": {},
   "source": [
    "Take a quick look what's inside data table."
   ]
  },
  {
   "cell_type": "code",
   "execution_count": 8,
   "metadata": {
    "execution": {
     "iopub.execute_input": "2021-09-07T15:56:00.632134Z",
     "iopub.status.busy": "2021-09-07T15:56:00.631769Z",
     "iopub.status.idle": "2021-09-07T15:56:00.704179Z",
     "shell.execute_reply": "2021-09-07T15:56:00.703049Z",
     "shell.execute_reply.started": "2021-09-07T15:56:00.632102Z"
    },
    "id": "SsPv5YRcRILG",
    "outputId": "ed1539d0-2d72-479f-c93f-2b306c6d8855"
   },
   "outputs": [
    {
     "data": {
      "text/html": [
       "<div>\n",
       "<style scoped>\n",
       "    .dataframe tbody tr th:only-of-type {\n",
       "        vertical-align: middle;\n",
       "    }\n",
       "\n",
       "    .dataframe tbody tr th {\n",
       "        vertical-align: top;\n",
       "    }\n",
       "\n",
       "    .dataframe thead th {\n",
       "        text-align: right;\n",
       "    }\n",
       "</style>\n",
       "<table border=\"1\" class=\"dataframe\">\n",
       "  <thead>\n",
       "    <tr style=\"text-align: right;\">\n",
       "      <th></th>\n",
       "      <th>Name</th>\n",
       "      <th>Platform</th>\n",
       "      <th>Year_of_Release</th>\n",
       "      <th>Genre</th>\n",
       "      <th>Publisher</th>\n",
       "      <th>NA_Sales</th>\n",
       "      <th>EU_Sales</th>\n",
       "      <th>JP_Sales</th>\n",
       "      <th>Other_Sales</th>\n",
       "      <th>Global_Sales</th>\n",
       "      <th>Critic_Score</th>\n",
       "      <th>Critic_Count</th>\n",
       "      <th>User_Score</th>\n",
       "      <th>User_Count</th>\n",
       "      <th>Developer</th>\n",
       "      <th>Rating</th>\n",
       "    </tr>\n",
       "  </thead>\n",
       "  <tbody>\n",
       "    <tr>\n",
       "      <th>0</th>\n",
       "      <td>Wii Sports</td>\n",
       "      <td>Wii</td>\n",
       "      <td>2006.0</td>\n",
       "      <td>Sports</td>\n",
       "      <td>Nintendo</td>\n",
       "      <td>41.36</td>\n",
       "      <td>28.96</td>\n",
       "      <td>3.77</td>\n",
       "      <td>8.45</td>\n",
       "      <td>82.53</td>\n",
       "      <td>76.0</td>\n",
       "      <td>51.0</td>\n",
       "      <td>8</td>\n",
       "      <td>322.0</td>\n",
       "      <td>Nintendo</td>\n",
       "      <td>E</td>\n",
       "    </tr>\n",
       "    <tr>\n",
       "      <th>1</th>\n",
       "      <td>Super Mario Bros.</td>\n",
       "      <td>NES</td>\n",
       "      <td>1985.0</td>\n",
       "      <td>Platform</td>\n",
       "      <td>Nintendo</td>\n",
       "      <td>29.08</td>\n",
       "      <td>3.58</td>\n",
       "      <td>6.81</td>\n",
       "      <td>0.77</td>\n",
       "      <td>40.24</td>\n",
       "      <td>NaN</td>\n",
       "      <td>NaN</td>\n",
       "      <td>NaN</td>\n",
       "      <td>NaN</td>\n",
       "      <td>NaN</td>\n",
       "      <td>NaN</td>\n",
       "    </tr>\n",
       "    <tr>\n",
       "      <th>2</th>\n",
       "      <td>Mario Kart Wii</td>\n",
       "      <td>Wii</td>\n",
       "      <td>2008.0</td>\n",
       "      <td>Racing</td>\n",
       "      <td>Nintendo</td>\n",
       "      <td>15.68</td>\n",
       "      <td>12.76</td>\n",
       "      <td>3.79</td>\n",
       "      <td>3.29</td>\n",
       "      <td>35.52</td>\n",
       "      <td>82.0</td>\n",
       "      <td>73.0</td>\n",
       "      <td>8.3</td>\n",
       "      <td>709.0</td>\n",
       "      <td>Nintendo</td>\n",
       "      <td>E</td>\n",
       "    </tr>\n",
       "    <tr>\n",
       "      <th>3</th>\n",
       "      <td>Wii Sports Resort</td>\n",
       "      <td>Wii</td>\n",
       "      <td>2009.0</td>\n",
       "      <td>Sports</td>\n",
       "      <td>Nintendo</td>\n",
       "      <td>15.61</td>\n",
       "      <td>10.93</td>\n",
       "      <td>3.28</td>\n",
       "      <td>2.95</td>\n",
       "      <td>32.77</td>\n",
       "      <td>80.0</td>\n",
       "      <td>73.0</td>\n",
       "      <td>8</td>\n",
       "      <td>192.0</td>\n",
       "      <td>Nintendo</td>\n",
       "      <td>E</td>\n",
       "    </tr>\n",
       "    <tr>\n",
       "      <th>4</th>\n",
       "      <td>Pokemon Red/Pokemon Blue</td>\n",
       "      <td>GB</td>\n",
       "      <td>1996.0</td>\n",
       "      <td>Role-Playing</td>\n",
       "      <td>Nintendo</td>\n",
       "      <td>11.27</td>\n",
       "      <td>8.89</td>\n",
       "      <td>10.22</td>\n",
       "      <td>1.00</td>\n",
       "      <td>31.37</td>\n",
       "      <td>NaN</td>\n",
       "      <td>NaN</td>\n",
       "      <td>NaN</td>\n",
       "      <td>NaN</td>\n",
       "      <td>NaN</td>\n",
       "      <td>NaN</td>\n",
       "    </tr>\n",
       "    <tr>\n",
       "      <th>5</th>\n",
       "      <td>Tetris</td>\n",
       "      <td>GB</td>\n",
       "      <td>1989.0</td>\n",
       "      <td>Puzzle</td>\n",
       "      <td>Nintendo</td>\n",
       "      <td>23.20</td>\n",
       "      <td>2.26</td>\n",
       "      <td>4.22</td>\n",
       "      <td>0.58</td>\n",
       "      <td>30.26</td>\n",
       "      <td>NaN</td>\n",
       "      <td>NaN</td>\n",
       "      <td>NaN</td>\n",
       "      <td>NaN</td>\n",
       "      <td>NaN</td>\n",
       "      <td>NaN</td>\n",
       "    </tr>\n",
       "    <tr>\n",
       "      <th>6</th>\n",
       "      <td>New Super Mario Bros.</td>\n",
       "      <td>DS</td>\n",
       "      <td>2006.0</td>\n",
       "      <td>Platform</td>\n",
       "      <td>Nintendo</td>\n",
       "      <td>11.28</td>\n",
       "      <td>9.14</td>\n",
       "      <td>6.50</td>\n",
       "      <td>2.88</td>\n",
       "      <td>29.80</td>\n",
       "      <td>89.0</td>\n",
       "      <td>65.0</td>\n",
       "      <td>8.5</td>\n",
       "      <td>431.0</td>\n",
       "      <td>Nintendo</td>\n",
       "      <td>E</td>\n",
       "    </tr>\n",
       "  </tbody>\n",
       "</table>\n",
       "</div>"
      ],
      "text/plain": [
       "                       Name Platform  Year_of_Release         Genre Publisher  \\\n",
       "0                Wii Sports      Wii           2006.0        Sports  Nintendo   \n",
       "1         Super Mario Bros.      NES           1985.0      Platform  Nintendo   \n",
       "2            Mario Kart Wii      Wii           2008.0        Racing  Nintendo   \n",
       "3         Wii Sports Resort      Wii           2009.0        Sports  Nintendo   \n",
       "4  Pokemon Red/Pokemon Blue       GB           1996.0  Role-Playing  Nintendo   \n",
       "5                    Tetris       GB           1989.0        Puzzle  Nintendo   \n",
       "6     New Super Mario Bros.       DS           2006.0      Platform  Nintendo   \n",
       "\n",
       "   NA_Sales  EU_Sales  JP_Sales  Other_Sales  Global_Sales  Critic_Score  \\\n",
       "0     41.36     28.96      3.77         8.45         82.53          76.0   \n",
       "1     29.08      3.58      6.81         0.77         40.24           NaN   \n",
       "2     15.68     12.76      3.79         3.29         35.52          82.0   \n",
       "3     15.61     10.93      3.28         2.95         32.77          80.0   \n",
       "4     11.27      8.89     10.22         1.00         31.37           NaN   \n",
       "5     23.20      2.26      4.22         0.58         30.26           NaN   \n",
       "6     11.28      9.14      6.50         2.88         29.80          89.0   \n",
       "\n",
       "   Critic_Count User_Score  User_Count Developer Rating  \n",
       "0          51.0          8       322.0  Nintendo      E  \n",
       "1           NaN        NaN         NaN       NaN    NaN  \n",
       "2          73.0        8.3       709.0  Nintendo      E  \n",
       "3          73.0          8       192.0  Nintendo      E  \n",
       "4           NaN        NaN         NaN       NaN    NaN  \n",
       "5           NaN        NaN         NaN       NaN    NaN  \n",
       "6          65.0        8.5       431.0  Nintendo      E  "
      ]
     },
     "execution_count": 8,
     "metadata": {},
     "output_type": "execute_result"
    }
   ],
   "source": [
    "game_df = pd.read_csv(r\"C:\\Users\\N.PK\\Documents\\SERIOUS PROJECTS\\Video_Games_Sales_as_at_22_Dec_2016.csv\\Video_Games_Sales_as_at_22_Dec_2016.csv\")\n",
    "game_df[:7]"
   ]
  },
  {
   "cell_type": "code",
   "execution_count": 9,
   "metadata": {
    "execution": {
     "iopub.execute_input": "2021-09-07T15:56:03.271148Z",
     "iopub.status.busy": "2021-09-07T15:56:03.270773Z",
     "iopub.status.idle": "2021-09-07T15:56:03.278887Z",
     "shell.execute_reply": "2021-09-07T15:56:03.278058Z",
     "shell.execute_reply.started": "2021-09-07T15:56:03.271117Z"
    }
   },
   "outputs": [
    {
     "data": {
      "text/plain": [
       "['Name',\n",
       " 'Platform',\n",
       " 'Year_of_Release',\n",
       " 'Genre',\n",
       " 'Publisher',\n",
       " 'NA_Sales',\n",
       " 'EU_Sales',\n",
       " 'JP_Sales',\n",
       " 'Other_Sales',\n",
       " 'Global_Sales',\n",
       " 'Critic_Score',\n",
       " 'Critic_Count',\n",
       " 'User_Score',\n",
       " 'User_Count',\n",
       " 'Developer',\n",
       " 'Rating']"
      ]
     },
     "execution_count": 9,
     "metadata": {},
     "output_type": "execute_result"
    }
   ],
   "source": [
    "game_df.columns.to_list()"
   ]
  },
  {
   "cell_type": "markdown",
   "metadata": {},
   "source": [
    "### Data Description\n",
    "- **Name** - the name of the game\n",
    "- **Platform** - platform\n",
    "- **Year_of_Release** - year of release\n",
    "- **Genre** - game genre\n",
    "- **Publisher** - studio\n",
    "- **NA_sales** - North American sales (millions of copies sold)\n",
    "- **EU_sales** - sales in Europe (millions of copies sold)\n",
    "- **JP_sales** - sales in Japan (millions of copies sold)\n",
    "- **Other_sales** - sales in other countries (millions of copies sold)\n",
    "- **Global_sales** - sales in other countries (millions of copies sold)\n",
    "- **Critic_Score** - Critic score (maximum 100)\n",
    "- **Critic_count** - The number of critics used in coming up with the Criticscore\n",
    "- **User_Score** - user score (maximum 10)\n",
    "- **Rating** - rating from the organization [ESRB](https://www.esrb.org/) (English Entertainment Software Rating Board).\n",
    "- **Developer** - developer"
   ]
  },
  {
   "cell_type": "markdown",
   "metadata": {},
   "source": [
    "Look at the market focused on 'Racing' genre."
   ]
  },
  {
   "cell_type": "code",
   "execution_count": 10,
   "metadata": {
    "execution": {
     "iopub.execute_input": "2021-09-07T15:56:06.762518Z",
     "iopub.status.busy": "2021-09-07T15:56:06.762202Z",
     "iopub.status.idle": "2021-09-07T15:56:06.801106Z",
     "shell.execute_reply": "2021-09-07T15:56:06.800344Z",
     "shell.execute_reply.started": "2021-09-07T15:56:06.762492Z"
    }
   },
   "outputs": [
    {
     "data": {
      "text/html": [
       "<div>\n",
       "<style scoped>\n",
       "    .dataframe tbody tr th:only-of-type {\n",
       "        vertical-align: middle;\n",
       "    }\n",
       "\n",
       "    .dataframe tbody tr th {\n",
       "        vertical-align: top;\n",
       "    }\n",
       "\n",
       "    .dataframe thead th {\n",
       "        text-align: right;\n",
       "    }\n",
       "</style>\n",
       "<table border=\"1\" class=\"dataframe\">\n",
       "  <thead>\n",
       "    <tr style=\"text-align: right;\">\n",
       "      <th></th>\n",
       "      <th>Name</th>\n",
       "      <th>Platform</th>\n",
       "      <th>Year_of_Release</th>\n",
       "      <th>Genre</th>\n",
       "      <th>Publisher</th>\n",
       "      <th>NA_Sales</th>\n",
       "      <th>EU_Sales</th>\n",
       "      <th>JP_Sales</th>\n",
       "      <th>Other_Sales</th>\n",
       "      <th>Global_Sales</th>\n",
       "      <th>Critic_Score</th>\n",
       "      <th>Critic_Count</th>\n",
       "      <th>User_Score</th>\n",
       "      <th>User_Count</th>\n",
       "      <th>Developer</th>\n",
       "      <th>Rating</th>\n",
       "    </tr>\n",
       "  </thead>\n",
       "  <tbody>\n",
       "    <tr>\n",
       "      <th>2</th>\n",
       "      <td>Mario Kart Wii</td>\n",
       "      <td>Wii</td>\n",
       "      <td>2008.0</td>\n",
       "      <td>Racing</td>\n",
       "      <td>Nintendo</td>\n",
       "      <td>15.68</td>\n",
       "      <td>12.76</td>\n",
       "      <td>3.79</td>\n",
       "      <td>3.29</td>\n",
       "      <td>35.52</td>\n",
       "      <td>82.0</td>\n",
       "      <td>73.0</td>\n",
       "      <td>8.3</td>\n",
       "      <td>709.0</td>\n",
       "      <td>Nintendo</td>\n",
       "      <td>E</td>\n",
       "    </tr>\n",
       "    <tr>\n",
       "      <th>11</th>\n",
       "      <td>Mario Kart DS</td>\n",
       "      <td>DS</td>\n",
       "      <td>2005.0</td>\n",
       "      <td>Racing</td>\n",
       "      <td>Nintendo</td>\n",
       "      <td>9.71</td>\n",
       "      <td>7.47</td>\n",
       "      <td>4.13</td>\n",
       "      <td>1.90</td>\n",
       "      <td>23.21</td>\n",
       "      <td>91.0</td>\n",
       "      <td>64.0</td>\n",
       "      <td>8.6</td>\n",
       "      <td>464.0</td>\n",
       "      <td>Nintendo</td>\n",
       "      <td>E</td>\n",
       "    </tr>\n",
       "    <tr>\n",
       "      <th>28</th>\n",
       "      <td>Gran Turismo 3: A-Spec</td>\n",
       "      <td>PS2</td>\n",
       "      <td>2001.0</td>\n",
       "      <td>Racing</td>\n",
       "      <td>Sony Computer Entertainment</td>\n",
       "      <td>6.85</td>\n",
       "      <td>5.09</td>\n",
       "      <td>1.87</td>\n",
       "      <td>1.16</td>\n",
       "      <td>14.98</td>\n",
       "      <td>95.0</td>\n",
       "      <td>54.0</td>\n",
       "      <td>8.4</td>\n",
       "      <td>314.0</td>\n",
       "      <td>Polyphony Digital</td>\n",
       "      <td>E</td>\n",
       "    </tr>\n",
       "    <tr>\n",
       "      <th>40</th>\n",
       "      <td>Mario Kart 7</td>\n",
       "      <td>3DS</td>\n",
       "      <td>2011.0</td>\n",
       "      <td>Racing</td>\n",
       "      <td>Nintendo</td>\n",
       "      <td>5.03</td>\n",
       "      <td>4.02</td>\n",
       "      <td>2.69</td>\n",
       "      <td>0.91</td>\n",
       "      <td>12.66</td>\n",
       "      <td>85.0</td>\n",
       "      <td>73.0</td>\n",
       "      <td>8.2</td>\n",
       "      <td>632.0</td>\n",
       "      <td>Retro Studios, Entertainment Analysis &amp; Develo...</td>\n",
       "      <td>E</td>\n",
       "    </tr>\n",
       "    <tr>\n",
       "      <th>48</th>\n",
       "      <td>Gran Turismo 4</td>\n",
       "      <td>PS2</td>\n",
       "      <td>2004.0</td>\n",
       "      <td>Racing</td>\n",
       "      <td>Sony Computer Entertainment</td>\n",
       "      <td>3.01</td>\n",
       "      <td>0.01</td>\n",
       "      <td>1.10</td>\n",
       "      <td>7.53</td>\n",
       "      <td>11.66</td>\n",
       "      <td>89.0</td>\n",
       "      <td>74.0</td>\n",
       "      <td>8.5</td>\n",
       "      <td>272.0</td>\n",
       "      <td>Polyphony Digital</td>\n",
       "      <td>E</td>\n",
       "    </tr>\n",
       "    <tr>\n",
       "      <th>...</th>\n",
       "      <td>...</td>\n",
       "      <td>...</td>\n",
       "      <td>...</td>\n",
       "      <td>...</td>\n",
       "      <td>...</td>\n",
       "      <td>...</td>\n",
       "      <td>...</td>\n",
       "      <td>...</td>\n",
       "      <td>...</td>\n",
       "      <td>...</td>\n",
       "      <td>...</td>\n",
       "      <td>...</td>\n",
       "      <td>...</td>\n",
       "      <td>...</td>\n",
       "      <td>...</td>\n",
       "      <td>...</td>\n",
       "    </tr>\n",
       "    <tr>\n",
       "      <th>16634</th>\n",
       "      <td>Sébastien Loeb Rally Evo</td>\n",
       "      <td>XOne</td>\n",
       "      <td>2016.0</td>\n",
       "      <td>Racing</td>\n",
       "      <td>Milestone S.r.l</td>\n",
       "      <td>0.00</td>\n",
       "      <td>0.01</td>\n",
       "      <td>0.00</td>\n",
       "      <td>0.00</td>\n",
       "      <td>0.01</td>\n",
       "      <td>63.0</td>\n",
       "      <td>8.0</td>\n",
       "      <td>8.2</td>\n",
       "      <td>22.0</td>\n",
       "      <td>Milestone S.r.l</td>\n",
       "      <td>E</td>\n",
       "    </tr>\n",
       "    <tr>\n",
       "      <th>16637</th>\n",
       "      <td>SBK Superbike World Championship</td>\n",
       "      <td>PSP</td>\n",
       "      <td>2008.0</td>\n",
       "      <td>Racing</td>\n",
       "      <td>Black Bean Games</td>\n",
       "      <td>0.01</td>\n",
       "      <td>0.00</td>\n",
       "      <td>0.00</td>\n",
       "      <td>0.00</td>\n",
       "      <td>0.01</td>\n",
       "      <td>NaN</td>\n",
       "      <td>NaN</td>\n",
       "      <td>tbd</td>\n",
       "      <td>NaN</td>\n",
       "      <td>Milestone S.r.l</td>\n",
       "      <td>E10+</td>\n",
       "    </tr>\n",
       "    <tr>\n",
       "      <th>16662</th>\n",
       "      <td>Driving Simulator 2011</td>\n",
       "      <td>PC</td>\n",
       "      <td>2011.0</td>\n",
       "      <td>Racing</td>\n",
       "      <td>NaN</td>\n",
       "      <td>0.00</td>\n",
       "      <td>0.01</td>\n",
       "      <td>0.00</td>\n",
       "      <td>0.00</td>\n",
       "      <td>0.01</td>\n",
       "      <td>NaN</td>\n",
       "      <td>NaN</td>\n",
       "      <td>NaN</td>\n",
       "      <td>NaN</td>\n",
       "      <td>NaN</td>\n",
       "      <td>NaN</td>\n",
       "    </tr>\n",
       "    <tr>\n",
       "      <th>16690</th>\n",
       "      <td>Yattaman Wii: BikkuriDokkiri Machine de Mou Ra...</td>\n",
       "      <td>Wii</td>\n",
       "      <td>2008.0</td>\n",
       "      <td>Racing</td>\n",
       "      <td>Takara Tomy</td>\n",
       "      <td>0.00</td>\n",
       "      <td>0.00</td>\n",
       "      <td>0.01</td>\n",
       "      <td>0.00</td>\n",
       "      <td>0.01</td>\n",
       "      <td>NaN</td>\n",
       "      <td>NaN</td>\n",
       "      <td>NaN</td>\n",
       "      <td>NaN</td>\n",
       "      <td>NaN</td>\n",
       "      <td>NaN</td>\n",
       "    </tr>\n",
       "    <tr>\n",
       "      <th>16713</th>\n",
       "      <td>SCORE International Baja 1000: The Official Game</td>\n",
       "      <td>PS2</td>\n",
       "      <td>2008.0</td>\n",
       "      <td>Racing</td>\n",
       "      <td>Activision</td>\n",
       "      <td>0.00</td>\n",
       "      <td>0.00</td>\n",
       "      <td>0.00</td>\n",
       "      <td>0.00</td>\n",
       "      <td>0.01</td>\n",
       "      <td>NaN</td>\n",
       "      <td>NaN</td>\n",
       "      <td>NaN</td>\n",
       "      <td>NaN</td>\n",
       "      <td>NaN</td>\n",
       "      <td>NaN</td>\n",
       "    </tr>\n",
       "  </tbody>\n",
       "</table>\n",
       "<p>1249 rows × 16 columns</p>\n",
       "</div>"
      ],
      "text/plain": [
       "                                                    Name Platform  \\\n",
       "2                                         Mario Kart Wii      Wii   \n",
       "11                                         Mario Kart DS       DS   \n",
       "28                                Gran Turismo 3: A-Spec      PS2   \n",
       "40                                          Mario Kart 7      3DS   \n",
       "48                                        Gran Turismo 4      PS2   \n",
       "...                                                  ...      ...   \n",
       "16634                           Sébastien Loeb Rally Evo     XOne   \n",
       "16637                   SBK Superbike World Championship      PSP   \n",
       "16662                             Driving Simulator 2011       PC   \n",
       "16690  Yattaman Wii: BikkuriDokkiri Machine de Mou Ra...      Wii   \n",
       "16713   SCORE International Baja 1000: The Official Game      PS2   \n",
       "\n",
       "       Year_of_Release   Genre                    Publisher  NA_Sales  \\\n",
       "2               2008.0  Racing                     Nintendo     15.68   \n",
       "11              2005.0  Racing                     Nintendo      9.71   \n",
       "28              2001.0  Racing  Sony Computer Entertainment      6.85   \n",
       "40              2011.0  Racing                     Nintendo      5.03   \n",
       "48              2004.0  Racing  Sony Computer Entertainment      3.01   \n",
       "...                ...     ...                          ...       ...   \n",
       "16634           2016.0  Racing              Milestone S.r.l      0.00   \n",
       "16637           2008.0  Racing             Black Bean Games      0.01   \n",
       "16662           2011.0  Racing                          NaN      0.00   \n",
       "16690           2008.0  Racing                  Takara Tomy      0.00   \n",
       "16713           2008.0  Racing                   Activision      0.00   \n",
       "\n",
       "       EU_Sales  JP_Sales  Other_Sales  Global_Sales  Critic_Score  \\\n",
       "2         12.76      3.79         3.29         35.52          82.0   \n",
       "11         7.47      4.13         1.90         23.21          91.0   \n",
       "28         5.09      1.87         1.16         14.98          95.0   \n",
       "40         4.02      2.69         0.91         12.66          85.0   \n",
       "48         0.01      1.10         7.53         11.66          89.0   \n",
       "...         ...       ...          ...           ...           ...   \n",
       "16634      0.01      0.00         0.00          0.01          63.0   \n",
       "16637      0.00      0.00         0.00          0.01           NaN   \n",
       "16662      0.01      0.00         0.00          0.01           NaN   \n",
       "16690      0.00      0.01         0.00          0.01           NaN   \n",
       "16713      0.00      0.00         0.00          0.01           NaN   \n",
       "\n",
       "       Critic_Count User_Score  User_Count  \\\n",
       "2              73.0        8.3       709.0   \n",
       "11             64.0        8.6       464.0   \n",
       "28             54.0        8.4       314.0   \n",
       "40             73.0        8.2       632.0   \n",
       "48             74.0        8.5       272.0   \n",
       "...             ...        ...         ...   \n",
       "16634           8.0        8.2        22.0   \n",
       "16637           NaN        tbd         NaN   \n",
       "16662           NaN        NaN         NaN   \n",
       "16690           NaN        NaN         NaN   \n",
       "16713           NaN        NaN         NaN   \n",
       "\n",
       "                                               Developer Rating  \n",
       "2                                               Nintendo      E  \n",
       "11                                              Nintendo      E  \n",
       "28                                     Polyphony Digital      E  \n",
       "40     Retro Studios, Entertainment Analysis & Develo...      E  \n",
       "48                                     Polyphony Digital      E  \n",
       "...                                                  ...    ...  \n",
       "16634                                    Milestone S.r.l      E  \n",
       "16637                                    Milestone S.r.l   E10+  \n",
       "16662                                                NaN    NaN  \n",
       "16690                                                NaN    NaN  \n",
       "16713                                                NaN    NaN  \n",
       "\n",
       "[1249 rows x 16 columns]"
      ]
     },
     "execution_count": 10,
     "metadata": {},
     "output_type": "execute_result"
    }
   ],
   "source": [
    "racing_df = game_df[game_df['Genre']=='Racing']\n",
    "racing_df"
   ]
  },
  {
   "cell_type": "markdown",
   "metadata": {},
   "source": [
    "we are working on times series so remove nulls."
   ]
  },
  {
   "cell_type": "code",
   "execution_count": 11,
   "metadata": {
    "execution": {
     "iopub.execute_input": "2021-09-07T15:56:10.021544Z",
     "iopub.status.busy": "2021-09-07T15:56:10.021228Z",
     "iopub.status.idle": "2021-09-07T15:56:10.02693Z",
     "shell.execute_reply": "2021-09-07T15:56:10.026153Z",
     "shell.execute_reply.started": "2021-09-07T15:56:10.021517Z"
    }
   },
   "outputs": [
    {
     "data": {
      "text/plain": [
       "23"
      ]
     },
     "execution_count": 11,
     "metadata": {},
     "output_type": "execute_result"
    }
   ],
   "source": [
    "racing_df['Year_of_Release'].isnull().sum()"
   ]
  },
  {
   "cell_type": "code",
   "execution_count": 12,
   "metadata": {
    "execution": {
     "iopub.execute_input": "2021-09-07T15:56:12.104938Z",
     "iopub.status.busy": "2021-09-07T15:56:12.104627Z",
     "iopub.status.idle": "2021-09-07T15:56:12.119242Z",
     "shell.execute_reply": "2021-09-07T15:56:12.118458Z",
     "shell.execute_reply.started": "2021-09-07T15:56:12.104908Z"
    }
   },
   "outputs": [
    {
     "data": {
      "text/plain": [
       "0"
      ]
     },
     "execution_count": 12,
     "metadata": {},
     "output_type": "execute_result"
    }
   ],
   "source": [
    "racing_df.dropna(subset=['Year_of_Release'], inplace=True)\n",
    "racing_df['Year_of_Release'].isnull().sum()"
   ]
  },
  {
   "cell_type": "code",
   "execution_count": 13,
   "metadata": {
    "execution": {
     "iopub.execute_input": "2021-09-07T15:56:14.183028Z",
     "iopub.status.busy": "2021-09-07T15:56:14.182687Z",
     "iopub.status.idle": "2021-09-07T15:56:14.199892Z",
     "shell.execute_reply": "2021-09-07T15:56:14.19883Z",
     "shell.execute_reply.started": "2021-09-07T15:56:14.182998Z"
    }
   },
   "outputs": [
    {
     "data": {
      "text/html": [
       "<div>\n",
       "<style scoped>\n",
       "    .dataframe tbody tr th:only-of-type {\n",
       "        vertical-align: middle;\n",
       "    }\n",
       "\n",
       "    .dataframe tbody tr th {\n",
       "        vertical-align: top;\n",
       "    }\n",
       "\n",
       "    .dataframe thead th {\n",
       "        text-align: right;\n",
       "    }\n",
       "</style>\n",
       "<table border=\"1\" class=\"dataframe\">\n",
       "  <thead>\n",
       "    <tr style=\"text-align: right;\">\n",
       "      <th></th>\n",
       "      <th>NA_Sales</th>\n",
       "      <th>EU_Sales</th>\n",
       "      <th>JP_Sales</th>\n",
       "      <th>Other_Sales</th>\n",
       "      <th>Global_Sales</th>\n",
       "    </tr>\n",
       "    <tr>\n",
       "      <th>Year_of_Release</th>\n",
       "      <th></th>\n",
       "      <th></th>\n",
       "      <th></th>\n",
       "      <th></th>\n",
       "      <th></th>\n",
       "    </tr>\n",
       "  </thead>\n",
       "  <tbody>\n",
       "    <tr>\n",
       "      <th>2008.0</th>\n",
       "      <td>15.68</td>\n",
       "      <td>12.76</td>\n",
       "      <td>3.79</td>\n",
       "      <td>3.29</td>\n",
       "      <td>35.52</td>\n",
       "    </tr>\n",
       "    <tr>\n",
       "      <th>2005.0</th>\n",
       "      <td>9.71</td>\n",
       "      <td>7.47</td>\n",
       "      <td>4.13</td>\n",
       "      <td>1.90</td>\n",
       "      <td>23.21</td>\n",
       "    </tr>\n",
       "    <tr>\n",
       "      <th>2001.0</th>\n",
       "      <td>6.85</td>\n",
       "      <td>5.09</td>\n",
       "      <td>1.87</td>\n",
       "      <td>1.16</td>\n",
       "      <td>14.98</td>\n",
       "    </tr>\n",
       "    <tr>\n",
       "      <th>2011.0</th>\n",
       "      <td>5.03</td>\n",
       "      <td>4.02</td>\n",
       "      <td>2.69</td>\n",
       "      <td>0.91</td>\n",
       "      <td>12.66</td>\n",
       "    </tr>\n",
       "    <tr>\n",
       "      <th>2004.0</th>\n",
       "      <td>3.01</td>\n",
       "      <td>0.01</td>\n",
       "      <td>1.10</td>\n",
       "      <td>7.53</td>\n",
       "      <td>11.66</td>\n",
       "    </tr>\n",
       "    <tr>\n",
       "      <th>...</th>\n",
       "      <td>...</td>\n",
       "      <td>...</td>\n",
       "      <td>...</td>\n",
       "      <td>...</td>\n",
       "      <td>...</td>\n",
       "    </tr>\n",
       "    <tr>\n",
       "      <th>2016.0</th>\n",
       "      <td>0.00</td>\n",
       "      <td>0.01</td>\n",
       "      <td>0.00</td>\n",
       "      <td>0.00</td>\n",
       "      <td>0.01</td>\n",
       "    </tr>\n",
       "    <tr>\n",
       "      <th>2008.0</th>\n",
       "      <td>0.01</td>\n",
       "      <td>0.00</td>\n",
       "      <td>0.00</td>\n",
       "      <td>0.00</td>\n",
       "      <td>0.01</td>\n",
       "    </tr>\n",
       "    <tr>\n",
       "      <th>2011.0</th>\n",
       "      <td>0.00</td>\n",
       "      <td>0.01</td>\n",
       "      <td>0.00</td>\n",
       "      <td>0.00</td>\n",
       "      <td>0.01</td>\n",
       "    </tr>\n",
       "    <tr>\n",
       "      <th>2008.0</th>\n",
       "      <td>0.00</td>\n",
       "      <td>0.00</td>\n",
       "      <td>0.01</td>\n",
       "      <td>0.00</td>\n",
       "      <td>0.01</td>\n",
       "    </tr>\n",
       "    <tr>\n",
       "      <th>2008.0</th>\n",
       "      <td>0.00</td>\n",
       "      <td>0.00</td>\n",
       "      <td>0.00</td>\n",
       "      <td>0.00</td>\n",
       "      <td>0.01</td>\n",
       "    </tr>\n",
       "  </tbody>\n",
       "</table>\n",
       "<p>1226 rows × 5 columns</p>\n",
       "</div>"
      ],
      "text/plain": [
       "                 NA_Sales  EU_Sales  JP_Sales  Other_Sales  Global_Sales\n",
       "Year_of_Release                                                         \n",
       "2008.0              15.68     12.76      3.79         3.29         35.52\n",
       "2005.0               9.71      7.47      4.13         1.90         23.21\n",
       "2001.0               6.85      5.09      1.87         1.16         14.98\n",
       "2011.0               5.03      4.02      2.69         0.91         12.66\n",
       "2004.0               3.01      0.01      1.10         7.53         11.66\n",
       "...                   ...       ...       ...          ...           ...\n",
       "2016.0               0.00      0.01      0.00         0.00          0.01\n",
       "2008.0               0.01      0.00      0.00         0.00          0.01\n",
       "2011.0               0.00      0.01      0.00         0.00          0.01\n",
       "2008.0               0.00      0.00      0.01         0.00          0.01\n",
       "2008.0               0.00      0.00      0.00         0.00          0.01\n",
       "\n",
       "[1226 rows x 5 columns]"
      ]
     },
     "execution_count": 13,
     "metadata": {},
     "output_type": "execute_result"
    }
   ],
   "source": [
    "racing_data = racing_df[['Year_of_Release','NA_Sales','EU_Sales','JP_Sales','Other_Sales','Global_Sales']]\n",
    "racing_data = racing_data.set_index('Year_of_Release', drop=True)\n",
    "racing_data"
   ]
  },
  {
   "cell_type": "markdown",
   "metadata": {},
   "source": [
    "Now we have full data set.\n",
    "\n",
    "Before model sees the data,\n",
    "let's see the sales sequence if there is any pattern."
   ]
  },
  {
   "cell_type": "code",
   "execution_count": 15,
   "metadata": {},
   "outputs": [],
   "source": [
    "# Correctly group by 'Year_of_Release' and calculate the mean for the specified columns\n",
    "game_data = game_data.groupby('Year_of_Release')[['NA_Sales', 'EU_Sales', 'JP_Sales', 'Other_Sales', 'Global_Sales']].mean()\n"
   ]
  },
  {
   "cell_type": "code",
   "execution_count": 16,
   "metadata": {
    "execution": {
     "iopub.execute_input": "2021-09-07T15:56:20.052374Z",
     "iopub.status.busy": "2021-09-07T15:56:20.052033Z",
     "iopub.status.idle": "2021-09-07T15:56:20.070828Z",
     "shell.execute_reply": "2021-09-07T15:56:20.069822Z",
     "shell.execute_reply.started": "2021-09-07T15:56:20.052343Z"
    }
   },
   "outputs": [
    {
     "data": {
      "text/html": [
       "<div>\n",
       "<style scoped>\n",
       "    .dataframe tbody tr th:only-of-type {\n",
       "        vertical-align: middle;\n",
       "    }\n",
       "\n",
       "    .dataframe tbody tr th {\n",
       "        vertical-align: top;\n",
       "    }\n",
       "\n",
       "    .dataframe thead th {\n",
       "        text-align: right;\n",
       "    }\n",
       "</style>\n",
       "<table border=\"1\" class=\"dataframe\">\n",
       "  <thead>\n",
       "    <tr style=\"text-align: right;\">\n",
       "      <th></th>\n",
       "      <th>NA_Sales</th>\n",
       "      <th>EU_Sales</th>\n",
       "      <th>JP_Sales</th>\n",
       "      <th>Other_Sales</th>\n",
       "      <th>Global_Sales</th>\n",
       "    </tr>\n",
       "    <tr>\n",
       "      <th>Year_of_Release</th>\n",
       "      <th></th>\n",
       "      <th></th>\n",
       "      <th></th>\n",
       "      <th></th>\n",
       "      <th></th>\n",
       "    </tr>\n",
       "  </thead>\n",
       "  <tbody>\n",
       "    <tr>\n",
       "      <th>1980.0</th>\n",
       "      <td>1.176667</td>\n",
       "      <td>0.074444</td>\n",
       "      <td>0.000000</td>\n",
       "      <td>0.013333</td>\n",
       "      <td>1.264444</td>\n",
       "    </tr>\n",
       "    <tr>\n",
       "      <th>1981.0</th>\n",
       "      <td>0.726087</td>\n",
       "      <td>0.042609</td>\n",
       "      <td>0.000000</td>\n",
       "      <td>0.006957</td>\n",
       "      <td>0.777609</td>\n",
       "    </tr>\n",
       "    <tr>\n",
       "      <th>1982.0</th>\n",
       "      <td>0.747778</td>\n",
       "      <td>0.045833</td>\n",
       "      <td>0.000000</td>\n",
       "      <td>0.008611</td>\n",
       "      <td>0.801667</td>\n",
       "    </tr>\n",
       "    <tr>\n",
       "      <th>1983.0</th>\n",
       "      <td>0.456471</td>\n",
       "      <td>0.047059</td>\n",
       "      <td>0.476471</td>\n",
       "      <td>0.008235</td>\n",
       "      <td>0.987647</td>\n",
       "    </tr>\n",
       "    <tr>\n",
       "      <th>1984.0</th>\n",
       "      <td>2.377143</td>\n",
       "      <td>0.150000</td>\n",
       "      <td>1.019286</td>\n",
       "      <td>0.050000</td>\n",
       "      <td>3.597143</td>\n",
       "    </tr>\n",
       "    <tr>\n",
       "      <th>1985.0</th>\n",
       "      <td>2.409286</td>\n",
       "      <td>0.338571</td>\n",
       "      <td>1.040000</td>\n",
       "      <td>0.065714</td>\n",
       "      <td>3.852857</td>\n",
       "    </tr>\n",
       "    <tr>\n",
       "      <th>1986.0</th>\n",
       "      <td>0.595238</td>\n",
       "      <td>0.135238</td>\n",
       "      <td>0.943333</td>\n",
       "      <td>0.091905</td>\n",
       "      <td>1.765238</td>\n",
       "    </tr>\n",
       "    <tr>\n",
       "      <th>1987.0</th>\n",
       "      <td>0.528750</td>\n",
       "      <td>0.088125</td>\n",
       "      <td>0.726875</td>\n",
       "      <td>0.012500</td>\n",
       "      <td>1.358750</td>\n",
       "    </tr>\n",
       "    <tr>\n",
       "      <th>1988.0</th>\n",
       "      <td>1.591333</td>\n",
       "      <td>0.439333</td>\n",
       "      <td>1.050667</td>\n",
       "      <td>0.066000</td>\n",
       "      <td>3.148000</td>\n",
       "    </tr>\n",
       "    <tr>\n",
       "      <th>1989.0</th>\n",
       "      <td>2.655882</td>\n",
       "      <td>0.496471</td>\n",
       "      <td>1.080000</td>\n",
       "      <td>0.088235</td>\n",
       "      <td>4.320588</td>\n",
       "    </tr>\n",
       "    <tr>\n",
       "      <th>1990.0</th>\n",
       "      <td>1.591250</td>\n",
       "      <td>0.476875</td>\n",
       "      <td>0.930000</td>\n",
       "      <td>0.087500</td>\n",
       "      <td>3.086875</td>\n",
       "    </tr>\n",
       "    <tr>\n",
       "      <th>1991.0</th>\n",
       "      <td>0.311220</td>\n",
       "      <td>0.096341</td>\n",
       "      <td>0.360488</td>\n",
       "      <td>0.018049</td>\n",
       "      <td>0.786098</td>\n",
       "    </tr>\n",
       "    <tr>\n",
       "      <th>1992.0</th>\n",
       "      <td>0.788140</td>\n",
       "      <td>0.272326</td>\n",
       "      <td>0.672326</td>\n",
       "      <td>0.038372</td>\n",
       "      <td>1.771395</td>\n",
       "    </tr>\n",
       "    <tr>\n",
       "      <th>1993.0</th>\n",
       "      <td>0.272581</td>\n",
       "      <td>0.083548</td>\n",
       "      <td>0.409032</td>\n",
       "      <td>0.015645</td>\n",
       "      <td>0.780645</td>\n",
       "    </tr>\n",
       "    <tr>\n",
       "      <th>1994.0</th>\n",
       "      <td>0.232727</td>\n",
       "      <td>0.122975</td>\n",
       "      <td>0.280909</td>\n",
       "      <td>0.018182</td>\n",
       "      <td>0.654380</td>\n",
       "    </tr>\n",
       "    <tr>\n",
       "      <th>1995.0</th>\n",
       "      <td>0.113379</td>\n",
       "      <td>0.068037</td>\n",
       "      <td>0.208904</td>\n",
       "      <td>0.012055</td>\n",
       "      <td>0.402329</td>\n",
       "    </tr>\n",
       "    <tr>\n",
       "      <th>1996.0</th>\n",
       "      <td>0.329886</td>\n",
       "      <td>0.179696</td>\n",
       "      <td>0.218403</td>\n",
       "      <td>0.029240</td>\n",
       "      <td>0.757224</td>\n",
       "    </tr>\n",
       "    <tr>\n",
       "      <th>1997.0</th>\n",
       "      <td>0.327855</td>\n",
       "      <td>0.167197</td>\n",
       "      <td>0.169100</td>\n",
       "      <td>0.031592</td>\n",
       "      <td>0.695433</td>\n",
       "    </tr>\n",
       "    <tr>\n",
       "      <th>1998.0</th>\n",
       "      <td>0.338681</td>\n",
       "      <td>0.176517</td>\n",
       "      <td>0.132032</td>\n",
       "      <td>0.029050</td>\n",
       "      <td>0.676649</td>\n",
       "    </tr>\n",
       "    <tr>\n",
       "      <th>1999.0</th>\n",
       "      <td>0.372959</td>\n",
       "      <td>0.185414</td>\n",
       "      <td>0.154852</td>\n",
       "      <td>0.029704</td>\n",
       "      <td>0.743343</td>\n",
       "    </tr>\n",
       "    <tr>\n",
       "      <th>2000.0</th>\n",
       "      <td>0.270000</td>\n",
       "      <td>0.150771</td>\n",
       "      <td>0.122200</td>\n",
       "      <td>0.033200</td>\n",
       "      <td>0.575943</td>\n",
       "    </tr>\n",
       "    <tr>\n",
       "      <th>2001.0</th>\n",
       "      <td>0.360954</td>\n",
       "      <td>0.196867</td>\n",
       "      <td>0.082697</td>\n",
       "      <td>0.047158</td>\n",
       "      <td>0.687697</td>\n",
       "    </tr>\n",
       "    <tr>\n",
       "      <th>2002.0</th>\n",
       "      <td>0.260784</td>\n",
       "      <td>0.132388</td>\n",
       "      <td>0.050374</td>\n",
       "      <td>0.032895</td>\n",
       "      <td>0.477093</td>\n",
       "    </tr>\n",
       "    <tr>\n",
       "      <th>2003.0</th>\n",
       "      <td>0.249819</td>\n",
       "      <td>0.133948</td>\n",
       "      <td>0.044129</td>\n",
       "      <td>0.033445</td>\n",
       "      <td>0.461677</td>\n",
       "    </tr>\n",
       "    <tr>\n",
       "      <th>2004.0</th>\n",
       "      <td>0.292008</td>\n",
       "      <td>0.140787</td>\n",
       "      <td>0.054659</td>\n",
       "      <td>0.061995</td>\n",
       "      <td>0.549934</td>\n",
       "    </tr>\n",
       "    <tr>\n",
       "      <th>2005.0</th>\n",
       "      <td>0.257881</td>\n",
       "      <td>0.128978</td>\n",
       "      <td>0.057796</td>\n",
       "      <td>0.042907</td>\n",
       "      <td>0.488083</td>\n",
       "    </tr>\n",
       "    <tr>\n",
       "      <th>2006.0</th>\n",
       "      <td>0.260567</td>\n",
       "      <td>0.127127</td>\n",
       "      <td>0.073300</td>\n",
       "      <td>0.053628</td>\n",
       "      <td>0.515129</td>\n",
       "    </tr>\n",
       "    <tr>\n",
       "      <th>2007.0</th>\n",
       "      <td>0.258889</td>\n",
       "      <td>0.131846</td>\n",
       "      <td>0.050368</td>\n",
       "      <td>0.064119</td>\n",
       "      <td>0.505739</td>\n",
       "    </tr>\n",
       "    <tr>\n",
       "      <th>2008.0</th>\n",
       "      <td>0.244352</td>\n",
       "      <td>0.126938</td>\n",
       "      <td>0.042221</td>\n",
       "      <td>0.057057</td>\n",
       "      <td>0.470771</td>\n",
       "    </tr>\n",
       "    <tr>\n",
       "      <th>2009.0</th>\n",
       "      <td>0.235309</td>\n",
       "      <td>0.131795</td>\n",
       "      <td>0.043401</td>\n",
       "      <td>0.051501</td>\n",
       "      <td>0.462048</td>\n",
       "    </tr>\n",
       "    <tr>\n",
       "      <th>2010.0</th>\n",
       "      <td>0.239562</td>\n",
       "      <td>0.136590</td>\n",
       "      <td>0.047402</td>\n",
       "      <td>0.046669</td>\n",
       "      <td>0.470590</td>\n",
       "    </tr>\n",
       "    <tr>\n",
       "      <th>2011.0</th>\n",
       "      <td>0.210202</td>\n",
       "      <td>0.143460</td>\n",
       "      <td>0.046717</td>\n",
       "      <td>0.046435</td>\n",
       "      <td>0.446998</td>\n",
       "    </tr>\n",
       "    <tr>\n",
       "      <th>2012.0</th>\n",
       "      <td>0.234701</td>\n",
       "      <td>0.175482</td>\n",
       "      <td>0.079326</td>\n",
       "      <td>0.055421</td>\n",
       "      <td>0.544931</td>\n",
       "    </tr>\n",
       "    <tr>\n",
       "      <th>2013.0</th>\n",
       "      <td>0.282445</td>\n",
       "      <td>0.223437</td>\n",
       "      <td>0.087665</td>\n",
       "      <td>0.070496</td>\n",
       "      <td>0.664044</td>\n",
       "    </tr>\n",
       "    <tr>\n",
       "      <th>2014.0</th>\n",
       "      <td>0.227659</td>\n",
       "      <td>0.211256</td>\n",
       "      <td>0.068313</td>\n",
       "      <td>0.063391</td>\n",
       "      <td>0.570585</td>\n",
       "    </tr>\n",
       "    <tr>\n",
       "      <th>2015.0</th>\n",
       "      <td>0.176337</td>\n",
       "      <td>0.159604</td>\n",
       "      <td>0.056254</td>\n",
       "      <td>0.050017</td>\n",
       "      <td>0.442327</td>\n",
       "    </tr>\n",
       "    <tr>\n",
       "      <th>2016.0</th>\n",
       "      <td>0.089502</td>\n",
       "      <td>0.102032</td>\n",
       "      <td>0.038466</td>\n",
       "      <td>0.028845</td>\n",
       "      <td>0.259163</td>\n",
       "    </tr>\n",
       "  </tbody>\n",
       "</table>\n",
       "</div>"
      ],
      "text/plain": [
       "                 NA_Sales  EU_Sales  JP_Sales  Other_Sales  Global_Sales\n",
       "Year_of_Release                                                         \n",
       "1980.0           1.176667  0.074444  0.000000     0.013333      1.264444\n",
       "1981.0           0.726087  0.042609  0.000000     0.006957      0.777609\n",
       "1982.0           0.747778  0.045833  0.000000     0.008611      0.801667\n",
       "1983.0           0.456471  0.047059  0.476471     0.008235      0.987647\n",
       "1984.0           2.377143  0.150000  1.019286     0.050000      3.597143\n",
       "1985.0           2.409286  0.338571  1.040000     0.065714      3.852857\n",
       "1986.0           0.595238  0.135238  0.943333     0.091905      1.765238\n",
       "1987.0           0.528750  0.088125  0.726875     0.012500      1.358750\n",
       "1988.0           1.591333  0.439333  1.050667     0.066000      3.148000\n",
       "1989.0           2.655882  0.496471  1.080000     0.088235      4.320588\n",
       "1990.0           1.591250  0.476875  0.930000     0.087500      3.086875\n",
       "1991.0           0.311220  0.096341  0.360488     0.018049      0.786098\n",
       "1992.0           0.788140  0.272326  0.672326     0.038372      1.771395\n",
       "1993.0           0.272581  0.083548  0.409032     0.015645      0.780645\n",
       "1994.0           0.232727  0.122975  0.280909     0.018182      0.654380\n",
       "1995.0           0.113379  0.068037  0.208904     0.012055      0.402329\n",
       "1996.0           0.329886  0.179696  0.218403     0.029240      0.757224\n",
       "1997.0           0.327855  0.167197  0.169100     0.031592      0.695433\n",
       "1998.0           0.338681  0.176517  0.132032     0.029050      0.676649\n",
       "1999.0           0.372959  0.185414  0.154852     0.029704      0.743343\n",
       "2000.0           0.270000  0.150771  0.122200     0.033200      0.575943\n",
       "2001.0           0.360954  0.196867  0.082697     0.047158      0.687697\n",
       "2002.0           0.260784  0.132388  0.050374     0.032895      0.477093\n",
       "2003.0           0.249819  0.133948  0.044129     0.033445      0.461677\n",
       "2004.0           0.292008  0.140787  0.054659     0.061995      0.549934\n",
       "2005.0           0.257881  0.128978  0.057796     0.042907      0.488083\n",
       "2006.0           0.260567  0.127127  0.073300     0.053628      0.515129\n",
       "2007.0           0.258889  0.131846  0.050368     0.064119      0.505739\n",
       "2008.0           0.244352  0.126938  0.042221     0.057057      0.470771\n",
       "2009.0           0.235309  0.131795  0.043401     0.051501      0.462048\n",
       "2010.0           0.239562  0.136590  0.047402     0.046669      0.470590\n",
       "2011.0           0.210202  0.143460  0.046717     0.046435      0.446998\n",
       "2012.0           0.234701  0.175482  0.079326     0.055421      0.544931\n",
       "2013.0           0.282445  0.223437  0.087665     0.070496      0.664044\n",
       "2014.0           0.227659  0.211256  0.068313     0.063391      0.570585\n",
       "2015.0           0.176337  0.159604  0.056254     0.050017      0.442327\n",
       "2016.0           0.089502  0.102032  0.038466     0.028845      0.259163"
      ]
     },
     "execution_count": 16,
     "metadata": {},
     "output_type": "execute_result"
    }
   ],
   "source": [
    "game_data = game_data.iloc[:-2]\n",
    "game_data"
   ]
  },
  {
   "cell_type": "code",
   "execution_count": 17,
   "metadata": {
    "execution": {
     "iopub.execute_input": "2021-09-07T15:56:23.188573Z",
     "iopub.status.busy": "2021-09-07T15:56:23.18823Z",
     "iopub.status.idle": "2021-09-07T15:56:23.407605Z",
     "shell.execute_reply": "2021-09-07T15:56:23.406686Z",
     "shell.execute_reply.started": "2021-09-07T15:56:23.188534Z"
    }
   },
   "outputs": [
    {
     "data": {
      "image/png": "[encoded data removed]",
      "text/plain": [
       "<Figure size 640x480 with 1 Axes>"
      ]
     },
     "metadata": {},
     "output_type": "display_data"
    }
   ],
   "source": [
    "plt.plot(game_data.groupby('Year_of_Release')['Global_Sales'].mean(), label='Gloabl Sales')\n",
    "plt.plot(racing_data.groupby('Year_of_Release')['Global_Sales'].mean(), label='Racing Gloabl Sales')\n",
    "plt.legend()\n",
    "plt.title('Sales History')\n",
    "plt.show()"
   ]
  },
  {
   "cell_type": "markdown",
   "metadata": {},
   "source": [
    "Globally, it is decreasing in sale.\n",
    "\n",
    "Racing video game sale is slightly greater than or the similart to the global mean in hitory, in general."
   ]
  },
  {
   "cell_type": "code",
   "execution_count": 18,
   "metadata": {
    "execution": {
     "iopub.execute_input": "2021-09-07T15:56:25.920262Z",
     "iopub.status.busy": "2021-09-07T15:56:25.919878Z",
     "iopub.status.idle": "2021-09-07T15:56:26.145489Z",
     "shell.execute_reply": "2021-09-07T15:56:26.144453Z",
     "shell.execute_reply.started": "2021-09-07T15:56:25.92023Z"
    }
   },
   "outputs": [
    {
     "data": {
      "image/png": "[encoded data removed]",
      "text/plain": [
       "<Figure size 640x480 with 1 Axes>"
      ]
     },
     "metadata": {},
     "output_type": "display_data"
    }
   ],
   "source": [
    "plt.plot(game_data.groupby('Year_of_Release')['Global_Sales'].mean(), label='Gloabl Sales')\n",
    "plt.plot(game_data.groupby('Year_of_Release')['EU_Sales'].mean(), label='EU Sales')\n",
    "plt.plot(game_data.groupby('Year_of_Release')['NA_Sales'].mean(), label='NA Sales')\n",
    "plt.plot(racing_data.groupby('Year_of_Release')['Global_Sales'].mean(), label='Racing Gloabl Sales')\n",
    "plt.legend()\n",
    "plt.title('Sales History')\n",
    "plt.show()"
   ]
  },
  {
   "cell_type": "markdown",
   "metadata": {},
   "source": [
    "Racing video game sale is slightly greater than global sale."
   ]
  },
  {
   "cell_type": "markdown",
   "metadata": {},
   "source": [
    "What platform do users use?\n",
    "I care about console so will look into that."
   ]
  },
  {
   "cell_type": "code",
   "execution_count": 19,
   "metadata": {
    "execution": {
     "iopub.execute_input": "2021-09-07T15:56:28.708313Z",
     "iopub.status.busy": "2021-09-07T15:56:28.707946Z",
     "iopub.status.idle": "2021-09-07T15:56:29.248174Z",
     "shell.execute_reply": "2021-09-07T15:56:29.247079Z",
     "shell.execute_reply.started": "2021-09-07T15:56:28.708283Z"
    }
   },
   "outputs": [
    {
     "data": {
      "image/png": "[encoded data removed]",
      "text/plain": [
       "<Figure size 2000x1000 with 1 Axes>"
      ]
     },
     "metadata": {},
     "output_type": "display_data"
    }
   ],
   "source": [
    "plt.figure(figsize=(20, 10))\n",
    "plt.hist(game_df['Platform'], bins=100)\n",
    "plt.show()"
   ]
  },
  {
   "cell_type": "markdown",
   "metadata": {},
   "source": [
    "It is platform distirbution.\n",
    "I will select console platform."
   ]
  },
  {
   "cell_type": "code",
   "execution_count": 20,
   "metadata": {
    "execution": {
     "iopub.execute_input": "2021-09-07T15:56:31.837924Z",
     "iopub.status.busy": "2021-09-07T15:56:31.837584Z",
     "iopub.status.idle": "2021-09-07T15:56:32.292911Z",
     "shell.execute_reply": "2021-09-07T15:56:32.291844Z",
     "shell.execute_reply.started": "2021-09-07T15:56:31.837893Z"
    }
   },
   "outputs": [
    {
     "data": {
      "text/plain": [
       "<Figure size 3500x1500 with 0 Axes>"
      ]
     },
     "metadata": {},
     "output_type": "display_data"
    },
    {
     "data": {
      "image/png": "[encoded data removed]",
      "text/plain": [
       "<Figure size 640x480 with 1 Axes>"
      ]
     },
     "metadata": {},
     "output_type": "display_data"
    }
   ],
   "source": [
    "plt.figure(figsize=(35,15))\n",
    "\n",
    "video7th = game_df[(game_df['Platform'] == 'Wii') | (game_df['Platform'] == 'PS3') | (game_df['Platform'] == 'X360')]\n",
    "\n",
    "genreSales = video7th.groupby(['Genre','Platform']).Global_Sales.sum()\n",
    "genreSales.unstack().plot(kind='bar',stacked=True,  colormap= 'Greys', grid=False)\n",
    "plt.title('Stacked Barplot of Sales per Game Genre')\n",
    "plt.ylabel('Sales')\n",
    "plt.show()"
   ]
  },
  {
   "cell_type": "markdown",
   "metadata": {},
   "source": [
    "## Observation:\n",
    "\n",
    "1.No particular choice in console yet\n",
    "\n",
    "In racing, the distribution of popular console is quite well spread.\n",
    "\n",
    "In other genre, there are some particular choices of console.\n",
    "\n",
    "Maybe, there's no particular flavor in terms of console platform when doing racing game.\n",
    "\n",
    "2.Can continue to grow\n",
    "\n",
    "In total of consol sales, it is middle class of sale volume.\n",
    "It is not too low or not too blowed. It is placed where's good to grow.\n",
    "\n",
    "\n",
    "## Conclusion:\n",
    "\n",
    "1.Under the observation 1,\n",
    "\n",
    "there's good place for new game changer, like Cart Rider of Nitro studio, to fit in.\n",
    "\n",
    "2.Following obervation 2, \n",
    "\n",
    "there's potential for ongoing growth for racing vidoe game with console.\n",
    "\n",
    "There should be more research on this, but it looks positive vision in this area.\n",
    "\n",
    "We love old time items in fashion and song,everywhere now.\n",
    "\n",
    "It is time for console game market to come into peopl's life."
   ]
  },
  {
   "cell_type": "markdown",
   "metadata": {},
   "source": [
    "# Dataset and feature selection"
   ]
  },
  {
   "cell_type": "markdown",
   "metadata": {},
   "source": [
    "Who is leading gloal market?"
   ]
  },
  {
   "cell_type": "code",
   "execution_count": 21,
   "metadata": {
    "execution": {
     "iopub.execute_input": "2021-09-07T15:56:36.341837Z",
     "iopub.status.busy": "2021-09-07T15:56:36.341516Z",
     "iopub.status.idle": "2021-09-07T15:56:36.622674Z",
     "shell.execute_reply": "2021-09-07T15:56:36.621839Z",
     "shell.execute_reply.started": "2021-09-07T15:56:36.341808Z"
    }
   },
   "outputs": [
    {
     "data": {
      "text/plain": [
       "<Axes: >"
      ]
     },
     "execution_count": 21,
     "metadata": {},
     "output_type": "execute_result"
    },
    {
     "data": {
      "image/png": "[encoded data removed]",
      "text/plain": [
       "<Figure size 640x480 with 2 Axes>"
      ]
     },
     "metadata": {},
     "output_type": "display_data"
    }
   ],
   "source": [
    "sns.heatmap(racing_data.corr())"
   ]
  },
  {
   "cell_type": "markdown",
   "metadata": {},
   "source": [
    "North America and Europe are strong."
   ]
  },
  {
   "cell_type": "code",
   "execution_count": 22,
   "metadata": {
    "execution": {
     "iopub.execute_input": "2021-09-07T15:56:39.170182Z",
     "iopub.status.busy": "2021-09-07T15:56:39.169824Z",
     "iopub.status.idle": "2021-09-07T15:56:39.181478Z",
     "shell.execute_reply": "2021-09-07T15:56:39.180575Z",
     "shell.execute_reply.started": "2021-09-07T15:56:39.170151Z"
    }
   },
   "outputs": [
    {
     "data": {
      "text/plain": [
       "NA_Sales        0.965370\n",
       "EU_Sales        0.942135\n",
       "JP_Sales        0.812064\n",
       "Other_Sales     0.671075\n",
       "Global_Sales    1.000000\n",
       "Name: Global_Sales, dtype: float64"
      ]
     },
     "execution_count": 22,
     "metadata": {},
     "output_type": "execute_result"
    }
   ],
   "source": [
    "racing_data.corr()['Global_Sales']"
   ]
  },
  {
   "cell_type": "markdown",
   "metadata": {},
   "source": [
    "Take both to predict global sale."
   ]
  },
  {
   "cell_type": "code",
   "execution_count": 23,
   "metadata": {
    "execution": {
     "iopub.execute_input": "2021-09-07T15:56:42.196691Z",
     "iopub.status.busy": "2021-09-07T15:56:42.196361Z",
     "iopub.status.idle": "2021-09-07T15:56:42.210641Z",
     "shell.execute_reply": "2021-09-07T15:56:42.209776Z",
     "shell.execute_reply.started": "2021-09-07T15:56:42.196661Z"
    }
   },
   "outputs": [
    {
     "data": {
      "text/html": [
       "<div>\n",
       "<style scoped>\n",
       "    .dataframe tbody tr th:only-of-type {\n",
       "        vertical-align: middle;\n",
       "    }\n",
       "\n",
       "    .dataframe tbody tr th {\n",
       "        vertical-align: top;\n",
       "    }\n",
       "\n",
       "    .dataframe thead th {\n",
       "        text-align: right;\n",
       "    }\n",
       "</style>\n",
       "<table border=\"1\" class=\"dataframe\">\n",
       "  <thead>\n",
       "    <tr style=\"text-align: right;\">\n",
       "      <th></th>\n",
       "      <th>NA_Sales</th>\n",
       "      <th>EU_Sales</th>\n",
       "      <th>Global_Sales</th>\n",
       "    </tr>\n",
       "    <tr>\n",
       "      <th>Year_of_Release</th>\n",
       "      <th></th>\n",
       "      <th></th>\n",
       "      <th></th>\n",
       "    </tr>\n",
       "  </thead>\n",
       "  <tbody>\n",
       "    <tr>\n",
       "      <th>1981.0</th>\n",
       "      <td>0.45</td>\n",
       "      <td>0.03</td>\n",
       "      <td>0.48</td>\n",
       "    </tr>\n",
       "    <tr>\n",
       "      <th>1982.0</th>\n",
       "      <td>0.37</td>\n",
       "      <td>0.02</td>\n",
       "      <td>0.39</td>\n",
       "    </tr>\n",
       "    <tr>\n",
       "      <th>1982.0</th>\n",
       "      <td>1.10</td>\n",
       "      <td>0.07</td>\n",
       "      <td>1.18</td>\n",
       "    </tr>\n",
       "    <tr>\n",
       "      <th>1984.0</th>\n",
       "      <td>0.26</td>\n",
       "      <td>0.01</td>\n",
       "      <td>0.27</td>\n",
       "    </tr>\n",
       "    <tr>\n",
       "      <th>1984.0</th>\n",
       "      <td>0.00</td>\n",
       "      <td>0.00</td>\n",
       "      <td>1.52</td>\n",
       "    </tr>\n",
       "    <tr>\n",
       "      <th>...</th>\n",
       "      <td>...</td>\n",
       "      <td>...</td>\n",
       "      <td>...</td>\n",
       "    </tr>\n",
       "    <tr>\n",
       "      <th>2016.0</th>\n",
       "      <td>0.03</td>\n",
       "      <td>0.00</td>\n",
       "      <td>0.04</td>\n",
       "    </tr>\n",
       "    <tr>\n",
       "      <th>2016.0</th>\n",
       "      <td>0.04</td>\n",
       "      <td>0.27</td>\n",
       "      <td>0.37</td>\n",
       "    </tr>\n",
       "    <tr>\n",
       "      <th>2016.0</th>\n",
       "      <td>0.00</td>\n",
       "      <td>0.04</td>\n",
       "      <td>0.04</td>\n",
       "    </tr>\n",
       "    <tr>\n",
       "      <th>2016.0</th>\n",
       "      <td>0.00</td>\n",
       "      <td>0.01</td>\n",
       "      <td>0.01</td>\n",
       "    </tr>\n",
       "    <tr>\n",
       "      <th>2016.0</th>\n",
       "      <td>0.02</td>\n",
       "      <td>0.05</td>\n",
       "      <td>0.09</td>\n",
       "    </tr>\n",
       "  </tbody>\n",
       "</table>\n",
       "<p>1226 rows × 3 columns</p>\n",
       "</div>"
      ],
      "text/plain": [
       "                 NA_Sales  EU_Sales  Global_Sales\n",
       "Year_of_Release                                  \n",
       "1981.0               0.45      0.03          0.48\n",
       "1982.0               0.37      0.02          0.39\n",
       "1982.0               1.10      0.07          1.18\n",
       "1984.0               0.26      0.01          0.27\n",
       "1984.0               0.00      0.00          1.52\n",
       "...                   ...       ...           ...\n",
       "2016.0               0.03      0.00          0.04\n",
       "2016.0               0.04      0.27          0.37\n",
       "2016.0               0.00      0.04          0.04\n",
       "2016.0               0.00      0.01          0.01\n",
       "2016.0               0.02      0.05          0.09\n",
       "\n",
       "[1226 rows x 3 columns]"
      ]
     },
     "execution_count": 23,
     "metadata": {},
     "output_type": "execute_result"
    }
   ],
   "source": [
    "racing_ds = racing_data[['NA_Sales','EU_Sales', 'Global_Sales']].sort_index()\n",
    "racing_ds"
   ]
  },
  {
   "cell_type": "code",
   "execution_count": 24,
   "metadata": {
    "execution": {
     "iopub.execute_input": "2021-09-07T15:56:44.882296Z",
     "iopub.status.busy": "2021-09-07T15:56:44.881923Z",
     "iopub.status.idle": "2021-09-07T15:56:44.89057Z",
     "shell.execute_reply": "2021-09-07T15:56:44.889345Z",
     "shell.execute_reply.started": "2021-09-07T15:56:44.882265Z"
    }
   },
   "outputs": [
    {
     "data": {
      "text/plain": [
       "(1226, 3)"
      ]
     },
     "execution_count": 24,
     "metadata": {},
     "output_type": "execute_result"
    }
   ],
   "source": [
    "racing_v = racing_ds.values\n",
    "racing_v.shape"
   ]
  },
  {
   "cell_type": "code",
   "execution_count": 28,
   "metadata": {
    "execution": {
     "iopub.execute_input": "2021-09-07T15:56:46.899685Z",
     "iopub.status.busy": "2021-09-07T15:56:46.899339Z",
     "iopub.status.idle": "2021-09-07T15:56:46.912065Z",
     "shell.execute_reply": "2021-09-07T15:56:46.911067Z",
     "shell.execute_reply.started": "2021-09-07T15:56:46.899649Z"
    }
   },
   "outputs": [
    {
     "data": {
      "text/plain": [
       "((1226, 2), (1226,))"
      ]
     },
     "execution_count": 28,
     "metadata": {},
     "output_type": "execute_result"
    }
   ],
   "source": [
    "x_data = []\n",
    "y_data = []\n",
    "for i in range(len(racing_v)):\n",
    "    #print(i)\n",
    "    if i <= len(racing_v):\n",
    "        x = racing_v[i][:2]\n",
    "        y = racing_v[i][2]\n",
    "        x_data.append(x)\n",
    "        y_data.append(y)\n",
    "\n",
    "x_data = np.array(x_data)\n",
    "y_data = np.array(y_data)\n",
    "x_data.shape, y_data.shape"
   ]
  },
  {
   "cell_type": "code",
   "execution_count": 29,
   "metadata": {
    "execution": {
     "iopub.execute_input": "2021-09-07T15:56:49.480143Z",
     "iopub.status.busy": "2021-09-07T15:56:49.479799Z",
     "iopub.status.idle": "2021-09-07T15:56:49.490103Z",
     "shell.execute_reply": "2021-09-07T15:56:49.489093Z",
     "shell.execute_reply.started": "2021-09-07T15:56:49.480114Z"
    }
   },
   "outputs": [
    {
     "data": {
      "text/plain": [
       "(array([0.45, 0.03, 0.48]), array([0.45, 0.03]))"
      ]
     },
     "execution_count": 29,
     "metadata": {},
     "output_type": "execute_result"
    }
   ],
   "source": [
    "racing_v[0], x_data[0]"
   ]
  },
  {
   "cell_type": "code",
   "execution_count": 30,
   "metadata": {
    "execution": {
     "iopub.execute_input": "2021-09-07T15:56:51.794913Z",
     "iopub.status.busy": "2021-09-07T15:56:51.794586Z",
     "iopub.status.idle": "2021-09-07T15:56:51.80358Z",
     "shell.execute_reply": "2021-09-07T15:56:51.802559Z",
     "shell.execute_reply.started": "2021-09-07T15:56:51.794883Z"
    }
   },
   "outputs": [
    {
     "data": {
      "text/plain": [
       "(array([ True,  True]), True)"
      ]
     },
     "execution_count": 30,
     "metadata": {},
     "output_type": "execute_result"
    }
   ],
   "source": [
    "racing_v[0][:2]==x_data[0], racing_v[0][2] == y_data[0]"
   ]
  },
  {
   "cell_type": "code",
   "execution_count": 31,
   "metadata": {
    "execution": {
     "iopub.execute_input": "2021-09-07T15:56:54.019441Z",
     "iopub.status.busy": "2021-09-07T15:56:54.019055Z",
     "iopub.status.idle": "2021-09-07T15:56:54.025895Z",
     "shell.execute_reply": "2021-09-07T15:56:54.024911Z",
     "shell.execute_reply.started": "2021-09-07T15:56:54.01941Z"
    }
   },
   "outputs": [],
   "source": [
    "train_test_split = 1150\n",
    "\n",
    "x_train = x_data[:train_test_split]\n",
    "y_train = y_data[:train_test_split]\n",
    "\n",
    "x_val = x_data[train_test_split:]\n",
    "y_val = y_data[train_test_split:]"
   ]
  },
  {
   "cell_type": "code",
   "execution_count": 32,
   "metadata": {
    "execution": {
     "iopub.execute_input": "2021-09-07T15:56:56.180332Z",
     "iopub.status.busy": "2021-09-07T15:56:56.179982Z",
     "iopub.status.idle": "2021-09-07T15:56:56.186791Z",
     "shell.execute_reply": "2021-09-07T15:56:56.185704Z",
     "shell.execute_reply.started": "2021-09-07T15:56:56.180303Z"
    }
   },
   "outputs": [
    {
     "data": {
      "text/plain": [
       "((1150, 2), (1150,), (76, 2), (76,))"
      ]
     },
     "execution_count": 32,
     "metadata": {},
     "output_type": "execute_result"
    }
   ],
   "source": [
    "x_train.shape, y_train.shape, x_val.shape, y_val.shape"
   ]
  },
  {
   "cell_type": "markdown",
   "metadata": {},
   "source": [
    "## Modelling - prediction"
   ]
  },
  {
   "cell_type": "code",
   "execution_count": 33,
   "metadata": {
    "execution": {
     "iopub.execute_input": "2021-09-07T15:56:58.354086Z",
     "iopub.status.busy": "2021-09-07T15:56:58.353735Z",
     "iopub.status.idle": "2021-09-07T15:56:58.392833Z",
     "shell.execute_reply": "2021-09-07T15:56:58.391935Z",
     "shell.execute_reply.started": "2021-09-07T15:56:58.354053Z"
    }
   },
   "outputs": [],
   "source": [
    "# Scale the data\n",
    "from sklearn.preprocessing import MinMaxScaler\n",
    "from sklearn.preprocessing import StandardScaler\n",
    "\n",
    "scaler = StandardScaler()\n",
    "train_scaled = scaler.fit_transform(x_train)\n",
    "val_scaled = scaler.transform(x_val)"
   ]
  },
  {
   "cell_type": "code",
   "execution_count": 34,
   "metadata": {
    "execution": {
     "iopub.execute_input": "2021-09-07T15:57:00.797786Z",
     "iopub.status.busy": "2021-09-07T15:57:00.79745Z",
     "iopub.status.idle": "2021-09-07T15:57:00.838933Z",
     "shell.execute_reply": "2021-09-07T15:57:00.837954Z",
     "shell.execute_reply.started": "2021-09-07T15:57:00.797754Z"
    }
   },
   "outputs": [
    {
     "data": {
      "text/plain": [
       "0.9929963561737511"
      ]
     },
     "execution_count": 34,
     "metadata": {},
     "output_type": "execute_result"
    }
   ],
   "source": [
    "from sklearn.linear_model import BayesianRidge, LinearRegression\n",
    "\n",
    "# Fit the Bayesian Ridge Regression and an OLS for comparison\n",
    "clf =  LinearRegression()\n",
    "clf.fit(x_train, y_train)\n",
    "clf.score(x_val, y_val)"
   ]
  },
  {
   "cell_type": "markdown",
   "metadata": {},
   "source": [
    "score is very high. \n",
    "\n",
    "That's beacuse:\n",
    "\n",
    "1.we luckily have storng correlated features to target value and can use them.\n",
    "\n",
    "2.the number of feature is low reletativley those of examples.\n",
    "\n",
    "3.with above support, we can use simple model and predict well with such a small data set."
   ]
  },
  {
   "cell_type": "markdown",
   "metadata": {},
   "source": [
    "## Further research\n",
    "\n",
    "1.Can we predict future sales value with other fetures such as the proportion of 'Genre'?\n",
    "\n",
    "2.Can find any relation 'Platform' and 'Genre'? Maybe use prefer the particular platform to the other platform for certain genre. Can we use those relations and predict console racing game sales future value or rating/score of users? \n",
    "\n",
    "Then, we can make a action plan in advance and react to the market changes properly."
   ]
  },
  {
   "cell_type": "code",
   "execution_count": null,
   "metadata": {},
   "outputs": [],
   "source": []
  }
 ],
 "metadata": {
  "kaggle": {
   "accelerator": "gpu",
   "dataSources": [
    {
     "datasetId": 576,
     "sourceId": 1146,
     "sourceType": "datasetVersion"
    }
   ],
   "dockerImageVersionId": 30096,
   "isGpuEnabled": true,
   "isInternetEnabled": false,
   "language": "python",
   "sourceType": "notebook"
  },
  "kernelspec": {
   "display_name": "Python 3 (ipykernel)",
   "language": "python",
   "name": "python3"
  },
  "language_info": {
   "codemirror_mode": {
    "name": "ipython",
    "version": 3
   },
   "file_extension": ".py",
   "mimetype": "text/x-python",
   "name": "python",
   "nbconvert_exporter": "python",
   "pygments_lexer": "ipython3",
   "version": "3.11.5"
  }
 },
 "nbformat": 4,
 "nbformat_minor": 4
}
